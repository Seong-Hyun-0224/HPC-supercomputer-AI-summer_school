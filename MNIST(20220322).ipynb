{
  "nbformat": 4,
  "nbformat_minor": 0,
  "metadata": {
    "colab": {
      "provenance": []
    },
    "kernelspec": {
      "name": "python3",
      "display_name": "Python 3"
    },
    "language_info": {
      "name": "python"
    }
  },
  "cells": [
    {
      "cell_type": "code",
      "execution_count": 1,
      "metadata": {
        "id": "E9nc7uOPZD21"
      },
      "outputs": [],
      "source": [
        "import tensorflow as tf\n",
        "import numpy as np\n",
        "from tensorflow import keras\n",
        "import matplotlib.pyplot as plt\n",
        "\n",
        "# variables\n",
        "epochs = 50\n",
        "batch_size = 128\n",
        "verbose = 1\n",
        "output_class = 10\n",
        "validation_split = 0.2\n",
        "\n",
        "\n"
      ]
    },
    {
      "cell_type": "code",
      "source": [
        "# mnist 데이터를 로드한다\n",
        "mnist = keras.datasets.mnist\n",
        "(X_train, Y_train), (X_test, Y_test) = mnist.load_data()\n",
        "\n",
        "X_train = X_train.astype('float32')\n",
        "X_test = X_test.astype('float32')\n",
        "\n",
        "# 입력을 0~1 사이로 전처리 수행\n",
        "X_train /= 255\n",
        "X_test /= 255\n",
        "\n",
        "# 레이블을 원핫 인코딩\n",
        "Y_train = tf.keras.utils.to_categorical(Y_train, output_class)\n",
        "Y_test = tf.keras.utils.to_categorical(Y_test, output_class)\n"
      ],
      "metadata": {
        "id": "8F8LDQ3nZSMf",
        "colab": {
          "base_uri": "https://localhost:8080/"
        },
        "outputId": "9b4cee24-7fff-4a51-8a3b-877ff443dd4c"
      },
      "execution_count": 2,
      "outputs": [
        {
          "output_type": "stream",
          "name": "stdout",
          "text": [
            "Downloading data from https://storage.googleapis.com/tensorflow/tf-keras-datasets/mnist.npz\n",
            "11490434/11490434 [==============================] - 0s 0us/step\n"
          ]
        }
      ]
    },
    {
      "cell_type": "code",
      "source": [
        "Y_test"
      ],
      "metadata": {
        "colab": {
          "base_uri": "https://localhost:8080/"
        },
        "id": "vy-2m9qoxHbS",
        "outputId": "701cba46-f18a-4838-be63-1e3473be6b47"
      },
      "execution_count": 3,
      "outputs": [
        {
          "output_type": "execute_result",
          "data": {
            "text/plain": [
              "array([[0., 0., 0., ..., 1., 0., 0.],\n",
              "       [0., 0., 1., ..., 0., 0., 0.],\n",
              "       [0., 1., 0., ..., 0., 0., 0.],\n",
              "       ...,\n",
              "       [0., 0., 0., ..., 0., 0., 0.],\n",
              "       [0., 0., 0., ..., 0., 0., 0.],\n",
              "       [0., 0., 0., ..., 0., 0., 0.]], dtype=float32)"
            ]
          },
          "metadata": {},
          "execution_count": 3
        }
      ]
    },
    {
      "cell_type": "code",
      "source": [
        "Y_test.shape"
      ],
      "metadata": {
        "colab": {
          "base_uri": "https://localhost:8080/"
        },
        "id": "7hwsVBJsQKDb",
        "outputId": "c0a68ac2-2600-48ce-d906-a4b7f04490e2"
      },
      "execution_count": 4,
      "outputs": [
        {
          "output_type": "execute_result",
          "data": {
            "text/plain": [
              "(10000, 10)"
            ]
          },
          "metadata": {},
          "execution_count": 4
        }
      ]
    },
    {
      "cell_type": "code",
      "source": [
        "type(X_train)"
      ],
      "metadata": {
        "colab": {
          "base_uri": "https://localhost:8080/"
        },
        "id": "tqgzc-_0naWX",
        "outputId": "d6eb7904-d559-4f1c-9767-59c2413a4fba"
      },
      "execution_count": 5,
      "outputs": [
        {
          "output_type": "execute_result",
          "data": {
            "text/plain": [
              "numpy.ndarray"
            ]
          },
          "metadata": {},
          "execution_count": 5
        }
      ]
    },
    {
      "cell_type": "code",
      "source": [
        "X_train.shape"
      ],
      "metadata": {
        "colab": {
          "base_uri": "https://localhost:8080/"
        },
        "id": "_QliipMjwTZE",
        "outputId": "8e9acacf-c9cf-4dee-bacd-184319a0a8ca"
      },
      "execution_count": 6,
      "outputs": [
        {
          "output_type": "execute_result",
          "data": {
            "text/plain": [
              "(60000, 28, 28)"
            ]
          },
          "metadata": {},
          "execution_count": 6
        }
      ]
    },
    {
      "cell_type": "code",
      "source": [
        "X_train[0]"
      ],
      "metadata": {
        "colab": {
          "base_uri": "https://localhost:8080/"
        },
        "id": "aiOaHA8SwUhP",
        "outputId": "cbafac99-145c-4974-976e-a041ca7bc194"
      },
      "execution_count": 7,
      "outputs": [
        {
          "output_type": "execute_result",
          "data": {
            "text/plain": [
              "array([[0.        , 0.        , 0.        , 0.        , 0.        ,\n",
              "        0.        , 0.        , 0.        , 0.        , 0.        ,\n",
              "        0.        , 0.        , 0.        , 0.        , 0.        ,\n",
              "        0.        , 0.        , 0.        , 0.        , 0.        ,\n",
              "        0.        , 0.        , 0.        , 0.        , 0.        ,\n",
              "        0.        , 0.        , 0.        ],\n",
              "       [0.        , 0.        , 0.        , 0.        , 0.        ,\n",
              "        0.        , 0.        , 0.        , 0.        , 0.        ,\n",
              "        0.        , 0.        , 0.        , 0.        , 0.        ,\n",
              "        0.        , 0.        , 0.        , 0.        , 0.        ,\n",
              "        0.        , 0.        , 0.        , 0.        , 0.        ,\n",
              "        0.        , 0.        , 0.        ],\n",
              "       [0.        , 0.        , 0.        , 0.        , 0.        ,\n",
              "        0.        , 0.        , 0.        , 0.        , 0.        ,\n",
              "        0.        , 0.        , 0.        , 0.        , 0.        ,\n",
              "        0.        , 0.        , 0.        , 0.        , 0.        ,\n",
              "        0.        , 0.        , 0.        , 0.        , 0.        ,\n",
              "        0.        , 0.        , 0.        ],\n",
              "       [0.        , 0.        , 0.        , 0.        , 0.        ,\n",
              "        0.        , 0.        , 0.        , 0.        , 0.        ,\n",
              "        0.        , 0.        , 0.        , 0.        , 0.        ,\n",
              "        0.        , 0.        , 0.        , 0.        , 0.        ,\n",
              "        0.        , 0.        , 0.        , 0.        , 0.        ,\n",
              "        0.        , 0.        , 0.        ],\n",
              "       [0.        , 0.        , 0.        , 0.        , 0.        ,\n",
              "        0.        , 0.        , 0.        , 0.        , 0.        ,\n",
              "        0.        , 0.        , 0.        , 0.        , 0.        ,\n",
              "        0.        , 0.        , 0.        , 0.        , 0.        ,\n",
              "        0.        , 0.        , 0.        , 0.        , 0.        ,\n",
              "        0.        , 0.        , 0.        ],\n",
              "       [0.        , 0.        , 0.        , 0.        , 0.        ,\n",
              "        0.        , 0.        , 0.        , 0.        , 0.        ,\n",
              "        0.        , 0.        , 0.01176471, 0.07058824, 0.07058824,\n",
              "        0.07058824, 0.49411765, 0.53333336, 0.6862745 , 0.10196079,\n",
              "        0.6509804 , 1.        , 0.96862745, 0.49803922, 0.        ,\n",
              "        0.        , 0.        , 0.        ],\n",
              "       [0.        , 0.        , 0.        , 0.        , 0.        ,\n",
              "        0.        , 0.        , 0.        , 0.11764706, 0.14117648,\n",
              "        0.36862746, 0.6039216 , 0.6666667 , 0.99215686, 0.99215686,\n",
              "        0.99215686, 0.99215686, 0.99215686, 0.88235295, 0.6745098 ,\n",
              "        0.99215686, 0.9490196 , 0.7647059 , 0.2509804 , 0.        ,\n",
              "        0.        , 0.        , 0.        ],\n",
              "       [0.        , 0.        , 0.        , 0.        , 0.        ,\n",
              "        0.        , 0.        , 0.19215687, 0.93333334, 0.99215686,\n",
              "        0.99215686, 0.99215686, 0.99215686, 0.99215686, 0.99215686,\n",
              "        0.99215686, 0.99215686, 0.9843137 , 0.3647059 , 0.32156864,\n",
              "        0.32156864, 0.21960784, 0.15294118, 0.        , 0.        ,\n",
              "        0.        , 0.        , 0.        ],\n",
              "       [0.        , 0.        , 0.        , 0.        , 0.        ,\n",
              "        0.        , 0.        , 0.07058824, 0.85882354, 0.99215686,\n",
              "        0.99215686, 0.99215686, 0.99215686, 0.99215686, 0.7764706 ,\n",
              "        0.7137255 , 0.96862745, 0.94509804, 0.        , 0.        ,\n",
              "        0.        , 0.        , 0.        , 0.        , 0.        ,\n",
              "        0.        , 0.        , 0.        ],\n",
              "       [0.        , 0.        , 0.        , 0.        , 0.        ,\n",
              "        0.        , 0.        , 0.        , 0.3137255 , 0.6117647 ,\n",
              "        0.41960785, 0.99215686, 0.99215686, 0.8039216 , 0.04313726,\n",
              "        0.        , 0.16862746, 0.6039216 , 0.        , 0.        ,\n",
              "        0.        , 0.        , 0.        , 0.        , 0.        ,\n",
              "        0.        , 0.        , 0.        ],\n",
              "       [0.        , 0.        , 0.        , 0.        , 0.        ,\n",
              "        0.        , 0.        , 0.        , 0.        , 0.05490196,\n",
              "        0.00392157, 0.6039216 , 0.99215686, 0.3529412 , 0.        ,\n",
              "        0.        , 0.        , 0.        , 0.        , 0.        ,\n",
              "        0.        , 0.        , 0.        , 0.        , 0.        ,\n",
              "        0.        , 0.        , 0.        ],\n",
              "       [0.        , 0.        , 0.        , 0.        , 0.        ,\n",
              "        0.        , 0.        , 0.        , 0.        , 0.        ,\n",
              "        0.        , 0.54509807, 0.99215686, 0.74509805, 0.00784314,\n",
              "        0.        , 0.        , 0.        , 0.        , 0.        ,\n",
              "        0.        , 0.        , 0.        , 0.        , 0.        ,\n",
              "        0.        , 0.        , 0.        ],\n",
              "       [0.        , 0.        , 0.        , 0.        , 0.        ,\n",
              "        0.        , 0.        , 0.        , 0.        , 0.        ,\n",
              "        0.        , 0.04313726, 0.74509805, 0.99215686, 0.27450982,\n",
              "        0.        , 0.        , 0.        , 0.        , 0.        ,\n",
              "        0.        , 0.        , 0.        , 0.        , 0.        ,\n",
              "        0.        , 0.        , 0.        ],\n",
              "       [0.        , 0.        , 0.        , 0.        , 0.        ,\n",
              "        0.        , 0.        , 0.        , 0.        , 0.        ,\n",
              "        0.        , 0.        , 0.13725491, 0.94509804, 0.88235295,\n",
              "        0.627451  , 0.42352942, 0.00392157, 0.        , 0.        ,\n",
              "        0.        , 0.        , 0.        , 0.        , 0.        ,\n",
              "        0.        , 0.        , 0.        ],\n",
              "       [0.        , 0.        , 0.        , 0.        , 0.        ,\n",
              "        0.        , 0.        , 0.        , 0.        , 0.        ,\n",
              "        0.        , 0.        , 0.        , 0.31764707, 0.9411765 ,\n",
              "        0.99215686, 0.99215686, 0.46666667, 0.09803922, 0.        ,\n",
              "        0.        , 0.        , 0.        , 0.        , 0.        ,\n",
              "        0.        , 0.        , 0.        ],\n",
              "       [0.        , 0.        , 0.        , 0.        , 0.        ,\n",
              "        0.        , 0.        , 0.        , 0.        , 0.        ,\n",
              "        0.        , 0.        , 0.        , 0.        , 0.1764706 ,\n",
              "        0.7294118 , 0.99215686, 0.99215686, 0.5882353 , 0.10588235,\n",
              "        0.        , 0.        , 0.        , 0.        , 0.        ,\n",
              "        0.        , 0.        , 0.        ],\n",
              "       [0.        , 0.        , 0.        , 0.        , 0.        ,\n",
              "        0.        , 0.        , 0.        , 0.        , 0.        ,\n",
              "        0.        , 0.        , 0.        , 0.        , 0.        ,\n",
              "        0.0627451 , 0.3647059 , 0.9882353 , 0.99215686, 0.73333335,\n",
              "        0.        , 0.        , 0.        , 0.        , 0.        ,\n",
              "        0.        , 0.        , 0.        ],\n",
              "       [0.        , 0.        , 0.        , 0.        , 0.        ,\n",
              "        0.        , 0.        , 0.        , 0.        , 0.        ,\n",
              "        0.        , 0.        , 0.        , 0.        , 0.        ,\n",
              "        0.        , 0.        , 0.9764706 , 0.99215686, 0.9764706 ,\n",
              "        0.2509804 , 0.        , 0.        , 0.        , 0.        ,\n",
              "        0.        , 0.        , 0.        ],\n",
              "       [0.        , 0.        , 0.        , 0.        , 0.        ,\n",
              "        0.        , 0.        , 0.        , 0.        , 0.        ,\n",
              "        0.        , 0.        , 0.        , 0.        , 0.18039216,\n",
              "        0.50980395, 0.7176471 , 0.99215686, 0.99215686, 0.8117647 ,\n",
              "        0.00784314, 0.        , 0.        , 0.        , 0.        ,\n",
              "        0.        , 0.        , 0.        ],\n",
              "       [0.        , 0.        , 0.        , 0.        , 0.        ,\n",
              "        0.        , 0.        , 0.        , 0.        , 0.        ,\n",
              "        0.        , 0.        , 0.15294118, 0.5803922 , 0.8980392 ,\n",
              "        0.99215686, 0.99215686, 0.99215686, 0.98039216, 0.7137255 ,\n",
              "        0.        , 0.        , 0.        , 0.        , 0.        ,\n",
              "        0.        , 0.        , 0.        ],\n",
              "       [0.        , 0.        , 0.        , 0.        , 0.        ,\n",
              "        0.        , 0.        , 0.        , 0.        , 0.        ,\n",
              "        0.09411765, 0.44705883, 0.8666667 , 0.99215686, 0.99215686,\n",
              "        0.99215686, 0.99215686, 0.7882353 , 0.30588236, 0.        ,\n",
              "        0.        , 0.        , 0.        , 0.        , 0.        ,\n",
              "        0.        , 0.        , 0.        ],\n",
              "       [0.        , 0.        , 0.        , 0.        , 0.        ,\n",
              "        0.        , 0.        , 0.        , 0.09019608, 0.25882354,\n",
              "        0.8352941 , 0.99215686, 0.99215686, 0.99215686, 0.99215686,\n",
              "        0.7764706 , 0.31764707, 0.00784314, 0.        , 0.        ,\n",
              "        0.        , 0.        , 0.        , 0.        , 0.        ,\n",
              "        0.        , 0.        , 0.        ],\n",
              "       [0.        , 0.        , 0.        , 0.        , 0.        ,\n",
              "        0.        , 0.07058824, 0.67058825, 0.85882354, 0.99215686,\n",
              "        0.99215686, 0.99215686, 0.99215686, 0.7647059 , 0.3137255 ,\n",
              "        0.03529412, 0.        , 0.        , 0.        , 0.        ,\n",
              "        0.        , 0.        , 0.        , 0.        , 0.        ,\n",
              "        0.        , 0.        , 0.        ],\n",
              "       [0.        , 0.        , 0.        , 0.        , 0.21568628,\n",
              "        0.6745098 , 0.8862745 , 0.99215686, 0.99215686, 0.99215686,\n",
              "        0.99215686, 0.95686275, 0.52156866, 0.04313726, 0.        ,\n",
              "        0.        , 0.        , 0.        , 0.        , 0.        ,\n",
              "        0.        , 0.        , 0.        , 0.        , 0.        ,\n",
              "        0.        , 0.        , 0.        ],\n",
              "       [0.        , 0.        , 0.        , 0.        , 0.53333336,\n",
              "        0.99215686, 0.99215686, 0.99215686, 0.83137256, 0.5294118 ,\n",
              "        0.5176471 , 0.0627451 , 0.        , 0.        , 0.        ,\n",
              "        0.        , 0.        , 0.        , 0.        , 0.        ,\n",
              "        0.        , 0.        , 0.        , 0.        , 0.        ,\n",
              "        0.        , 0.        , 0.        ],\n",
              "       [0.        , 0.        , 0.        , 0.        , 0.        ,\n",
              "        0.        , 0.        , 0.        , 0.        , 0.        ,\n",
              "        0.        , 0.        , 0.        , 0.        , 0.        ,\n",
              "        0.        , 0.        , 0.        , 0.        , 0.        ,\n",
              "        0.        , 0.        , 0.        , 0.        , 0.        ,\n",
              "        0.        , 0.        , 0.        ],\n",
              "       [0.        , 0.        , 0.        , 0.        , 0.        ,\n",
              "        0.        , 0.        , 0.        , 0.        , 0.        ,\n",
              "        0.        , 0.        , 0.        , 0.        , 0.        ,\n",
              "        0.        , 0.        , 0.        , 0.        , 0.        ,\n",
              "        0.        , 0.        , 0.        , 0.        , 0.        ,\n",
              "        0.        , 0.        , 0.        ],\n",
              "       [0.        , 0.        , 0.        , 0.        , 0.        ,\n",
              "        0.        , 0.        , 0.        , 0.        , 0.        ,\n",
              "        0.        , 0.        , 0.        , 0.        , 0.        ,\n",
              "        0.        , 0.        , 0.        , 0.        , 0.        ,\n",
              "        0.        , 0.        , 0.        , 0.        , 0.        ,\n",
              "        0.        , 0.        , 0.        ]], dtype=float32)"
            ]
          },
          "metadata": {},
          "execution_count": 7
        }
      ]
    },
    {
      "cell_type": "code",
      "source": [
        "plt.figure(figsize=(5,5))\n",
        "image = np.reshape(X_train[1], [28,28])\n",
        "plt.imshow(image, cmap='Greys')\n",
        "plt.show()"
      ],
      "metadata": {
        "colab": {
          "base_uri": "https://localhost:8080/",
          "height": 445
        },
        "id": "nkJVClzOwwwF",
        "outputId": "2af5cd39-1ec9-4a3f-9632-b70d15221838"
      },
      "execution_count": 8,
      "outputs": [
        {
          "output_type": "display_data",
          "data": {
            "text/plain": [
              "<Figure size 500x500 with 1 Axes>"
            ],
            "image/png": "[encoded data removed]"
          },
          "metadata": {}
        }
      ]
    },
    {
      "cell_type": "code",
      "source": [
        "Y_train[1]"
      ],
      "metadata": {
        "colab": {
          "base_uri": "https://localhost:8080/"
        },
        "id": "M9chVJEDwaNJ",
        "outputId": "2a735cc2-0c03-49d3-b162-a76c7de4e5e2"
      },
      "execution_count": 9,
      "outputs": [
        {
          "output_type": "execute_result",
          "data": {
            "text/plain": [
              "array([1., 0., 0., 0., 0., 0., 0., 0., 0., 0.], dtype=float32)"
            ]
          },
          "metadata": {},
          "execution_count": 9
        }
      ]
    },
    {
      "cell_type": "code",
      "source": [
        "\n",
        "# models\n",
        "model = tf.keras.models.Sequential()\n",
        "model = keras.Sequential([ keras.layers.Flatten(input_shape=(28, 28)),\n",
        "                           keras.layers.Dense(128, activation='relu'),\n",
        "                           keras.layers.Dense(10, activation='softmax') ])\n",
        "# model 요약\n",
        "model.summary()"
      ],
      "metadata": {
        "colab": {
          "base_uri": "https://localhost:8080/"
        },
        "id": "sBZu5nUxnUgR",
        "outputId": "38ff44d8-6926-4277-b493-3edad533ee6e"
      },
      "execution_count": 10,
      "outputs": [
        {
          "output_type": "stream",
          "name": "stdout",
          "text": [
            "Model: \"sequential_1\"\n",
            "_________________________________________________________________\n",
            " Layer (type)                Output Shape              Param #   \n",
            "=================================================================\n",
            " flatten (Flatten)           (None, 784)               0         \n",
            "                                                                 \n",
            " dense (Dense)               (None, 128)               100480    \n",
            "                                                                 \n",
            " dense_1 (Dense)             (None, 10)                1290      \n",
            "                                                                 \n",
            "=================================================================\n",
            "Total params: 101,770\n",
            "Trainable params: 101,770\n",
            "Non-trainable params: 0\n",
            "_________________________________________________________________\n"
          ]
        }
      ]
    },
    {
      "cell_type": "code",
      "source": [
        "# model compile\n",
        "model.compile(optimizer='adam', loss='categorical_crossentropy', metrics=['accuracy'])"
      ],
      "metadata": {
        "id": "DjhRA9z6mYFs"
      },
      "execution_count": 11,
      "outputs": []
    },
    {
      "cell_type": "code",
      "source": [
        "#model 학습\n",
        "model.fit(X_train, Y_train, batch_size=batch_size, epochs=epochs, verbose=verbose, validation_split=validation_split)"
      ],
      "metadata": {
        "colab": {
          "base_uri": "https://localhost:8080/"
        },
        "id": "ukrpDf8GmhOO",
        "outputId": "dcac54bf-0032-4988-c977-bdd03cddb7e7"
      },
      "execution_count": 12,
      "outputs": [
        {
          "output_type": "stream",
          "name": "stdout",
          "text": [
            "Epoch 1/50\n",
            "375/375 [==============================] - 7s 16ms/step - loss: 0.4030 - accuracy: 0.8900 - val_loss: 0.2133 - val_accuracy: 0.9417\n",
            "Epoch 2/50\n",
            "375/375 [==============================] - 4s 11ms/step - loss: 0.1898 - accuracy: 0.9464 - val_loss: 0.1612 - val_accuracy: 0.9556\n",
            "Epoch 3/50\n",
            "375/375 [==============================] - 3s 9ms/step - loss: 0.1366 - accuracy: 0.9609 - val_loss: 0.1299 - val_accuracy: 0.9638\n",
            "Epoch 4/50\n",
            "375/375 [==============================] - 2s 6ms/step - loss: 0.1072 - accuracy: 0.9695 - val_loss: 0.1177 - val_accuracy: 0.9653\n",
            "Epoch 5/50\n",
            "375/375 [==============================] - 3s 9ms/step - loss: 0.0865 - accuracy: 0.9752 - val_loss: 0.1030 - val_accuracy: 0.9701\n",
            "Epoch 6/50\n",
            "375/375 [==============================] - 2s 5ms/step - loss: 0.0711 - accuracy: 0.9799 - val_loss: 0.0952 - val_accuracy: 0.9724\n",
            "Epoch 7/50\n",
            "375/375 [==============================] - 2s 6ms/step - loss: 0.0601 - accuracy: 0.9833 - val_loss: 0.0926 - val_accuracy: 0.9727\n",
            "Epoch 8/50\n",
            "375/375 [==============================] - 2s 5ms/step - loss: 0.0496 - accuracy: 0.9862 - val_loss: 0.0880 - val_accuracy: 0.9732\n",
            "Epoch 9/50\n",
            "375/375 [==============================] - 2s 5ms/step - loss: 0.0431 - accuracy: 0.9881 - val_loss: 0.0888 - val_accuracy: 0.9727\n",
            "Epoch 10/50\n",
            "375/375 [==============================] - 2s 6ms/step - loss: 0.0367 - accuracy: 0.9903 - val_loss: 0.0957 - val_accuracy: 0.9708\n",
            "Epoch 11/50\n",
            "375/375 [==============================] - 3s 7ms/step - loss: 0.0311 - accuracy: 0.9921 - val_loss: 0.0880 - val_accuracy: 0.9759\n",
            "Epoch 12/50\n",
            "375/375 [==============================] - 2s 6ms/step - loss: 0.0261 - accuracy: 0.9940 - val_loss: 0.0864 - val_accuracy: 0.9753\n",
            "Epoch 13/50\n",
            "375/375 [==============================] - 2s 5ms/step - loss: 0.0225 - accuracy: 0.9947 - val_loss: 0.0840 - val_accuracy: 0.9758\n",
            "Epoch 14/50\n",
            "375/375 [==============================] - 2s 6ms/step - loss: 0.0191 - accuracy: 0.9958 - val_loss: 0.0851 - val_accuracy: 0.9762\n",
            "Epoch 15/50\n",
            "375/375 [==============================] - 2s 6ms/step - loss: 0.0155 - accuracy: 0.9973 - val_loss: 0.0833 - val_accuracy: 0.9758\n",
            "Epoch 16/50\n",
            "375/375 [==============================] - 3s 8ms/step - loss: 0.0129 - accuracy: 0.9979 - val_loss: 0.0965 - val_accuracy: 0.9737\n",
            "Epoch 17/50\n",
            "375/375 [==============================] - 2s 6ms/step - loss: 0.0128 - accuracy: 0.9973 - val_loss: 0.0863 - val_accuracy: 0.9761\n",
            "Epoch 18/50\n",
            "375/375 [==============================] - 2s 5ms/step - loss: 0.0099 - accuracy: 0.9984 - val_loss: 0.0876 - val_accuracy: 0.9765\n",
            "Epoch 19/50\n",
            "375/375 [==============================] - 2s 6ms/step - loss: 0.0084 - accuracy: 0.9988 - val_loss: 0.0880 - val_accuracy: 0.9763\n",
            "Epoch 20/50\n",
            "375/375 [==============================] - 2s 6ms/step - loss: 0.0072 - accuracy: 0.9991 - val_loss: 0.0902 - val_accuracy: 0.9760\n",
            "Epoch 21/50\n",
            "375/375 [==============================] - 2s 6ms/step - loss: 0.0066 - accuracy: 0.9990 - val_loss: 0.0942 - val_accuracy: 0.9763\n",
            "Epoch 22/50\n",
            "375/375 [==============================] - 3s 8ms/step - loss: 0.0060 - accuracy: 0.9992 - val_loss: 0.0948 - val_accuracy: 0.9758\n",
            "Epoch 23/50\n",
            "375/375 [==============================] - 2s 6ms/step - loss: 0.0049 - accuracy: 0.9994 - val_loss: 0.0934 - val_accuracy: 0.9768\n",
            "Epoch 24/50\n",
            "375/375 [==============================] - 2s 6ms/step - loss: 0.0033 - accuracy: 0.9997 - val_loss: 0.0944 - val_accuracy: 0.9783\n",
            "Epoch 25/50\n",
            "375/375 [==============================] - 2s 5ms/step - loss: 0.0037 - accuracy: 0.9995 - val_loss: 0.0979 - val_accuracy: 0.9770\n",
            "Epoch 26/50\n",
            "375/375 [==============================] - 2s 6ms/step - loss: 0.0039 - accuracy: 0.9995 - val_loss: 0.1045 - val_accuracy: 0.9756\n",
            "Epoch 27/50\n",
            "375/375 [==============================] - 3s 7ms/step - loss: 0.0044 - accuracy: 0.9992 - val_loss: 0.1032 - val_accuracy: 0.9768\n",
            "Epoch 28/50\n",
            "375/375 [==============================] - 3s 7ms/step - loss: 0.0038 - accuracy: 0.9993 - val_loss: 0.1083 - val_accuracy: 0.9760\n",
            "Epoch 29/50\n",
            "375/375 [==============================] - 2s 5ms/step - loss: 0.0031 - accuracy: 0.9995 - val_loss: 0.1036 - val_accuracy: 0.9769\n",
            "Epoch 30/50\n",
            "375/375 [==============================] - 2s 6ms/step - loss: 0.0016 - accuracy: 0.9999 - val_loss: 0.1029 - val_accuracy: 0.9778\n",
            "Epoch 31/50\n",
            "375/375 [==============================] - 2s 6ms/step - loss: 9.4051e-04 - accuracy: 1.0000 - val_loss: 0.1007 - val_accuracy: 0.9783\n",
            "Epoch 32/50\n",
            "375/375 [==============================] - 2s 6ms/step - loss: 7.5514e-04 - accuracy: 1.0000 - val_loss: 0.1023 - val_accuracy: 0.9791\n",
            "Epoch 33/50\n",
            "375/375 [==============================] - 3s 8ms/step - loss: 6.4413e-04 - accuracy: 1.0000 - val_loss: 0.1037 - val_accuracy: 0.9782\n",
            "Epoch 34/50\n",
            "375/375 [==============================] - 2s 6ms/step - loss: 5.9538e-04 - accuracy: 1.0000 - val_loss: 0.1054 - val_accuracy: 0.9785\n",
            "Epoch 35/50\n",
            "375/375 [==============================] - 2s 6ms/step - loss: 8.5227e-04 - accuracy: 0.9999 - val_loss: 0.1218 - val_accuracy: 0.9760\n",
            "Epoch 36/50\n",
            "375/375 [==============================] - 2s 6ms/step - loss: 0.0168 - accuracy: 0.9946 - val_loss: 0.1257 - val_accuracy: 0.9743\n",
            "Epoch 37/50\n",
            "375/375 [==============================] - 2s 5ms/step - loss: 0.0029 - accuracy: 0.9993 - val_loss: 0.1117 - val_accuracy: 0.9769\n",
            "Epoch 38/50\n",
            "375/375 [==============================] - 2s 6ms/step - loss: 8.1267e-04 - accuracy: 1.0000 - val_loss: 0.1113 - val_accuracy: 0.9783\n",
            "Epoch 39/50\n",
            "375/375 [==============================] - 3s 8ms/step - loss: 4.8981e-04 - accuracy: 1.0000 - val_loss: 0.1124 - val_accuracy: 0.9783\n",
            "Epoch 40/50\n",
            "375/375 [==============================] - 2s 5ms/step - loss: 4.0507e-04 - accuracy: 1.0000 - val_loss: 0.1123 - val_accuracy: 0.9787\n",
            "Epoch 41/50\n",
            "375/375 [==============================] - 2s 5ms/step - loss: 3.6096e-04 - accuracy: 1.0000 - val_loss: 0.1131 - val_accuracy: 0.9780\n",
            "Epoch 42/50\n",
            "375/375 [==============================] - 2s 7ms/step - loss: 3.2137e-04 - accuracy: 1.0000 - val_loss: 0.1133 - val_accuracy: 0.9787\n",
            "Epoch 43/50\n",
            "375/375 [==============================] - 2s 5ms/step - loss: 3.0121e-04 - accuracy: 1.0000 - val_loss: 0.1151 - val_accuracy: 0.9779\n",
            "Epoch 44/50\n",
            "375/375 [==============================] - 3s 7ms/step - loss: 2.7369e-04 - accuracy: 1.0000 - val_loss: 0.1152 - val_accuracy: 0.9783\n",
            "Epoch 45/50\n",
            "375/375 [==============================] - 3s 7ms/step - loss: 2.3778e-04 - accuracy: 1.0000 - val_loss: 0.1148 - val_accuracy: 0.9784\n",
            "Epoch 46/50\n",
            "375/375 [==============================] - 3s 7ms/step - loss: 8.0289e-04 - accuracy: 0.9998 - val_loss: 0.1639 - val_accuracy: 0.9707\n",
            "Epoch 47/50\n",
            "375/375 [==============================] - 2s 6ms/step - loss: 0.0147 - accuracy: 0.9954 - val_loss: 0.1269 - val_accuracy: 0.9750\n",
            "Epoch 48/50\n",
            "375/375 [==============================] - 2s 5ms/step - loss: 0.0012 - accuracy: 0.9999 - val_loss: 0.1193 - val_accuracy: 0.9787\n",
            "Epoch 49/50\n",
            "375/375 [==============================] - 2s 6ms/step - loss: 4.2661e-04 - accuracy: 1.0000 - val_loss: 0.1180 - val_accuracy: 0.9787\n",
            "Epoch 50/50\n",
            "375/375 [==============================] - 3s 8ms/step - loss: 2.7934e-04 - accuracy: 1.0000 - val_loss: 0.1180 - val_accuracy: 0.9786\n"
          ]
        },
        {
          "output_type": "execute_result",
          "data": {
            "text/plain": [
              "<keras.callbacks.History at 0x7faf771d29e0>"
            ]
          },
          "metadata": {},
          "execution_count": 12
        }
      ]
    },
    {
      "cell_type": "code",
      "source": [
        "#모델 평가\n",
        "test_loss, test_acc = model.evaluate(X_test, Y_test)\n",
        "print('Test accuracy: ', test_acc)\n"
      ],
      "metadata": {
        "colab": {
          "base_uri": "https://localhost:8080/"
        },
        "id": "Ff_lgiG2m6Ot",
        "outputId": "633f0bbb-af0a-41f3-ac43-a10f28762bc4"
      },
      "execution_count": 13,
      "outputs": [
        {
          "output_type": "stream",
          "name": "stdout",
          "text": [
            "313/313 [==============================] - 1s 2ms/step - loss: 0.1106 - accuracy: 0.9795\n",
            "Test accuracy:  0.9794999957084656\n"
          ]
        }
      ]
    }
  ]
}